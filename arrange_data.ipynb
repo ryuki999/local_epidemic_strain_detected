{
 "cells": [
  {
   "cell_type": "code",
   "execution_count": 1,
   "metadata": {},
   "outputs": [],
   "source": [
    "import pandas as pd\n",
    "from pathlib import Path\n",
    "import openpyxl\n",
    "import numpy as np\n",
    "import os\n",
    "from collections import defaultdict\n",
    "from pivotadder import Omicron2201PivotAdder, Omicron2211PivotAdder"
   ]
  },
  {
   "cell_type": "code",
   "execution_count": 2,
   "metadata": {},
   "outputs": [],
   "source": [
    "class Tsv2ExcelConverter(object):\n",
    "    def __init__(self, input_dir, output_dir, data_dir, pivot_adder=None):\n",
    "        self.input_dir = Path(input_dir)\n",
    "        self.output_dir = Path(output_dir)\n",
    "        self.pivot_adder = pivot_adder\n",
    "        self.data_dir = data_dir\n",
    "        if not self.output_dir.exists():\n",
    "            os.mkdir(self.output_dir)\n",
    "            \n",
    "    def convert(self):\n",
    "        for file in self.input_dir.glob(\"**/*.tsv\"):\n",
    "            print(file)\n",
    "            data = pd.read_csv(file, sep=\"\\t\")\n",
    "            excel_path = f\"{self.output_dir}/{file.stem}_{self.data_dir}.xlsx\"\n",
    "            data.to_excel(excel_path)\n",
    "\n",
    "            if self.pivot_adder is not None:\n",
    "                with pd.ExcelWriter(excel_path, mode=\"a\") as writer:\n",
    "                    self.pivot_adder.add_pivot(writer=writer, data=data)\n"
   ]
  },
  {
   "cell_type": "code",
   "execution_count": 3,
   "metadata": {},
   "outputs": [
    {
     "name": "stdout",
     "output_type": "stream",
     "text": [
      "omicron2211/output/50/ANALYTICS_CLUSTER/Asia.tsv\n"
     ]
    },
    {
     "name": "stderr",
     "output_type": "stream",
     "text": [
      "/tmp/ipykernel_457738/3914196457.py:13: DtypeWarning: Columns (34) have mixed types. Specify dtype option on import or set low_memory=False.\n",
      "  data = pd.read_csv(file, sep=\"\\t\")\n"
     ]
    },
    {
     "name": "stdout",
     "output_type": "stream",
     "text": [
      "omicron2211/output/50/ANALYTICS_CLUSTER/North_America.tsv\n"
     ]
    },
    {
     "name": "stderr",
     "output_type": "stream",
     "text": [
      "/tmp/ipykernel_457738/3914196457.py:13: DtypeWarning: Columns (10,24,34) have mixed types. Specify dtype option on import or set low_memory=False.\n",
      "  data = pd.read_csv(file, sep=\"\\t\")\n"
     ]
    },
    {
     "name": "stdout",
     "output_type": "stream",
     "text": [
      "omicron2211/output/50/ANALYTICS_CLUSTER/Oceania.tsv\n",
      "omicron2211/output/50/ANALYTICS_CLUSTER/Africa.tsv\n",
      "omicron2211/output/50/ANALYTICS_CLUSTER/Europe.tsv\n"
     ]
    },
    {
     "name": "stderr",
     "output_type": "stream",
     "text": [
      "/tmp/ipykernel_457738/3914196457.py:13: DtypeWarning: Columns (10,34) have mixed types. Specify dtype option on import or set low_memory=False.\n",
      "  data = pd.read_csv(file, sep=\"\\t\")\n"
     ]
    }
   ],
   "source": [
    "converter = Tsv2ExcelConverter(\n",
    "    input_dir=\"./omicron2211/output/50/ANALYTICS_CLUSTER\",\n",
    "    output_dir=\"./omicron2211/output/50/ANALYTICS_CLUSTER\",\n",
    "    pivot_adder=Omicron2211PivotAdder(),\n",
    "    data_dir=\"omicron2211\")\n",
    "converter.convert()"
   ]
  },
  {
   "cell_type": "code",
   "execution_count": 4,
   "metadata": {},
   "outputs": [
    {
     "name": "stdout",
     "output_type": "stream",
     "text": [
      "omicron2211/output/100/ANALYTICS_CLUSTER/Asia.tsv\n"
     ]
    },
    {
     "name": "stderr",
     "output_type": "stream",
     "text": [
      "/tmp/ipykernel_457738/3914196457.py:13: DtypeWarning: Columns (34) have mixed types. Specify dtype option on import or set low_memory=False.\n",
      "  data = pd.read_csv(file, sep=\"\\t\")\n"
     ]
    },
    {
     "name": "stdout",
     "output_type": "stream",
     "text": [
      "omicron2211/output/100/ANALYTICS_CLUSTER/North_America.tsv\n"
     ]
    },
    {
     "name": "stderr",
     "output_type": "stream",
     "text": [
      "/tmp/ipykernel_457738/3914196457.py:13: DtypeWarning: Columns (24,34) have mixed types. Specify dtype option on import or set low_memory=False.\n",
      "  data = pd.read_csv(file, sep=\"\\t\")\n"
     ]
    },
    {
     "name": "stdout",
     "output_type": "stream",
     "text": [
      "omicron2211/output/100/ANALYTICS_CLUSTER/Oceania.tsv\n",
      "omicron2211/output/100/ANALYTICS_CLUSTER/Africa.tsv\n",
      "omicron2211/output/100/ANALYTICS_CLUSTER/Europe.tsv\n"
     ]
    },
    {
     "name": "stderr",
     "output_type": "stream",
     "text": [
      "/tmp/ipykernel_457738/3914196457.py:13: DtypeWarning: Columns (10,34) have mixed types. Specify dtype option on import or set low_memory=False.\n",
      "  data = pd.read_csv(file, sep=\"\\t\")\n"
     ]
    }
   ],
   "source": [
    "converter = Tsv2ExcelConverter(\n",
    "    input_dir=\"./omicron2211/output/100/ANALYTICS_CLUSTER\",\n",
    "    output_dir=\"./omicron2211/output/100/ANALYTICS_CLUSTER\",\n",
    "    pivot_adder=Omicron2211PivotAdder(),\n",
    "    data_dir=\"omicron2211\")\n",
    "converter.convert()"
   ]
  },
  {
   "cell_type": "code",
   "execution_count": 5,
   "metadata": {},
   "outputs": [
    {
     "name": "stdout",
     "output_type": "stream",
     "text": [
      "omicron2211/output/10/ANALYTICS_CLUSTER/Asia.tsv\n",
      "omicron2211/output/10/ANALYTICS_CLUSTER/North_America.tsv\n",
      "omicron2211/output/10/ANALYTICS_CLUSTER/Oceania.tsv\n",
      "omicron2211/output/10/ANALYTICS_CLUSTER/Africa.tsv\n",
      "omicron2211/output/10/ANALYTICS_CLUSTER/Europe.tsv\n"
     ]
    },
    {
     "name": "stderr",
     "output_type": "stream",
     "text": [
      "/tmp/ipykernel_457738/3914196457.py:13: DtypeWarning: Columns (10,33) have mixed types. Specify dtype option on import or set low_memory=False.\n",
      "  data = pd.read_csv(file, sep=\"\\t\")\n"
     ]
    }
   ],
   "source": [
    "converter = Tsv2ExcelConverter(\n",
    "    input_dir=\"./omicron2211/output/10/ANALYTICS_CLUSTER\",\n",
    "    output_dir=\"./omicron2211/output/10/ANALYTICS_CLUSTER\",\n",
    "    pivot_adder=Omicron2211PivotAdder(),\n",
    "    data_dir=\"omicron2211\")\n",
    "converter.convert()"
   ]
  },
  {
   "cell_type": "code",
   "execution_count": 6,
   "metadata": {},
   "outputs": [
    {
     "name": "stdout",
     "output_type": "stream",
     "text": [
      "omicron2201/output/100/ANALYTICS_CLUSTER/Asia.tsv\n",
      "omicron2201/output/100/ANALYTICS_CLUSTER/North_America.tsv\n"
     ]
    },
    {
     "name": "stderr",
     "output_type": "stream",
     "text": [
      "/tmp/ipykernel_274085/2315705697.py:13: DtypeWarning: Columns (24) have mixed types. Specify dtype option on import or set low_memory=False.\n",
      "  data = pd.read_csv(file, sep=\"\\t\")\n"
     ]
    },
    {
     "name": "stdout",
     "output_type": "stream",
     "text": [
      "omicron2201/output/100/ANALYTICS_CLUSTER/Oceania.tsv\n",
      "omicron2201/output/100/ANALYTICS_CLUSTER/Africa.tsv\n",
      "omicron2201/output/100/ANALYTICS_CLUSTER/Europe.tsv\n"
     ]
    },
    {
     "name": "stderr",
     "output_type": "stream",
     "text": [
      "/tmp/ipykernel_274085/2315705697.py:13: DtypeWarning: Columns (10) have mixed types. Specify dtype option on import or set low_memory=False.\n",
      "  data = pd.read_csv(file, sep=\"\\t\")\n"
     ]
    }
   ],
   "source": [
    "if False:\n",
    "    converter = Tsv2ExcelConverter(\n",
    "        input_dir=\"./omicron2201/output/100/ANALYTICS_CLUSTER\",\n",
    "        output_dir=\"./omicron2201/output/100/ANALYTICS_CLUSTER\",\n",
    "        pivot_adder=Omicron2201PivotAdder(),\n",
    "        data_dir=\"omicron2201\")\n",
    "    converter.convert()"
   ]
  },
  {
   "cell_type": "code",
   "execution_count": 5,
   "metadata": {},
   "outputs": [
    {
     "name": "stdout",
     "output_type": "stream",
     "text": [
      "omicron2211/ALL.tsv\n"
     ]
    },
    {
     "name": "stderr",
     "output_type": "stream",
     "text": [
      "/tmp/ipykernel_268619/3801503623.py:13: DtypeWarning: Columns (10,24,33,34,35) have mixed types. Specify dtype option on import or set low_memory=False.\n",
      "  data = pd.read_csv(file, sep=\"\\t\")\n"
     ]
    },
    {
     "ename": "ValueError",
     "evalue": "This sheet is too large! Your sheet size is: 2414620, 36 Max sheet size is: 1048576, 16384",
     "output_type": "error",
     "traceback": [
      "\u001b[0;31m---------------------------------------------------------------------------\u001b[0m",
      "\u001b[0;31mValueError\u001b[0m                                Traceback (most recent call last)",
      "\u001b[1;32mセル4 を /mnt/home2/furukawa/work/local_epidemic_strain_detected/arrange_data.ipynb\u001b[0m in \u001b[0;36m<cell line: 6>\u001b[0;34m()\u001b[0m\n\u001b[1;32m      <a href='vscode-notebook-cell://ssh-remote%2B133.35.159.17/mnt/home2/furukawa/work/local_epidemic_strain_detected/arrange_data.ipynb#W6sdnNjb2RlLXJlbW90ZQ%3D%3D?line=0'>1</a>\u001b[0m \u001b[39m### ALL.tsv--ALL*.xlsx\u001b[39;00m\n\u001b[1;32m      <a href='vscode-notebook-cell://ssh-remote%2B133.35.159.17/mnt/home2/furukawa/work/local_epidemic_strain_detected/arrange_data.ipynb#W6sdnNjb2RlLXJlbW90ZQ%3D%3D?line=1'>2</a>\u001b[0m converter \u001b[39m=\u001b[39m Tsv2ExcelConverter(\n\u001b[1;32m      <a href='vscode-notebook-cell://ssh-remote%2B133.35.159.17/mnt/home2/furukawa/work/local_epidemic_strain_detected/arrange_data.ipynb#W6sdnNjb2RlLXJlbW90ZQ%3D%3D?line=2'>3</a>\u001b[0m     input_dir\u001b[39m=\u001b[39m\u001b[39m\"\u001b[39m\u001b[39m./omicron2211\u001b[39m\u001b[39m\"\u001b[39m,\n\u001b[1;32m      <a href='vscode-notebook-cell://ssh-remote%2B133.35.159.17/mnt/home2/furukawa/work/local_epidemic_strain_detected/arrange_data.ipynb#W6sdnNjb2RlLXJlbW90ZQ%3D%3D?line=3'>4</a>\u001b[0m     output_dir\u001b[39m=\u001b[39m\u001b[39m\"\u001b[39m\u001b[39m./omicron2211/output\u001b[39m\u001b[39m\"\u001b[39m,\n\u001b[1;32m      <a href='vscode-notebook-cell://ssh-remote%2B133.35.159.17/mnt/home2/furukawa/work/local_epidemic_strain_detected/arrange_data.ipynb#W6sdnNjb2RlLXJlbW90ZQ%3D%3D?line=4'>5</a>\u001b[0m     data_dir\u001b[39m=\u001b[39m\u001b[39m\"\u001b[39m\u001b[39momicron2211\u001b[39m\u001b[39m\"\u001b[39m)\n\u001b[0;32m----> <a href='vscode-notebook-cell://ssh-remote%2B133.35.159.17/mnt/home2/furukawa/work/local_epidemic_strain_detected/arrange_data.ipynb#W6sdnNjb2RlLXJlbW90ZQ%3D%3D?line=5'>6</a>\u001b[0m converter\u001b[39m.\u001b[39;49mconvert()\n",
      "\u001b[1;32mセル4 を /mnt/home2/furukawa/work/local_epidemic_strain_detected/arrange_data.ipynb\u001b[0m in \u001b[0;36mTsv2ExcelConverter.convert\u001b[0;34m(self)\u001b[0m\n\u001b[1;32m     <a href='vscode-notebook-cell://ssh-remote%2B133.35.159.17/mnt/home2/furukawa/work/local_epidemic_strain_detected/arrange_data.ipynb#W6sdnNjb2RlLXJlbW90ZQ%3D%3D?line=12'>13</a>\u001b[0m data \u001b[39m=\u001b[39m pd\u001b[39m.\u001b[39mread_csv(file, sep\u001b[39m=\u001b[39m\u001b[39m\"\u001b[39m\u001b[39m\\t\u001b[39;00m\u001b[39m\"\u001b[39m)\n\u001b[1;32m     <a href='vscode-notebook-cell://ssh-remote%2B133.35.159.17/mnt/home2/furukawa/work/local_epidemic_strain_detected/arrange_data.ipynb#W6sdnNjb2RlLXJlbW90ZQ%3D%3D?line=13'>14</a>\u001b[0m excel_path \u001b[39m=\u001b[39m \u001b[39mf\u001b[39m\u001b[39m\"\u001b[39m\u001b[39m{\u001b[39;00m\u001b[39mself\u001b[39m\u001b[39m.\u001b[39moutput_dir\u001b[39m}\u001b[39;00m\u001b[39m/\u001b[39m\u001b[39m{\u001b[39;00mfile\u001b[39m.\u001b[39mstem\u001b[39m}\u001b[39;00m\u001b[39m_\u001b[39m\u001b[39m{\u001b[39;00m\u001b[39mself\u001b[39m\u001b[39m.\u001b[39mdata_dir\u001b[39m}\u001b[39;00m\u001b[39m.xlsx\u001b[39m\u001b[39m\"\u001b[39m\n\u001b[0;32m---> <a href='vscode-notebook-cell://ssh-remote%2B133.35.159.17/mnt/home2/furukawa/work/local_epidemic_strain_detected/arrange_data.ipynb#W6sdnNjb2RlLXJlbW90ZQ%3D%3D?line=14'>15</a>\u001b[0m data\u001b[39m.\u001b[39;49mto_excel(excel_path)\n\u001b[1;32m     <a href='vscode-notebook-cell://ssh-remote%2B133.35.159.17/mnt/home2/furukawa/work/local_epidemic_strain_detected/arrange_data.ipynb#W6sdnNjb2RlLXJlbW90ZQ%3D%3D?line=16'>17</a>\u001b[0m \u001b[39mif\u001b[39;00m \u001b[39mself\u001b[39m\u001b[39m.\u001b[39mpivot_adder \u001b[39mis\u001b[39;00m \u001b[39mnot\u001b[39;00m \u001b[39mNone\u001b[39;00m:\n\u001b[1;32m     <a href='vscode-notebook-cell://ssh-remote%2B133.35.159.17/mnt/home2/furukawa/work/local_epidemic_strain_detected/arrange_data.ipynb#W6sdnNjb2RlLXJlbW90ZQ%3D%3D?line=17'>18</a>\u001b[0m     \u001b[39mwith\u001b[39;00m pd\u001b[39m.\u001b[39mExcelWriter(excel_path, mode\u001b[39m=\u001b[39m\u001b[39m\"\u001b[39m\u001b[39ma\u001b[39m\u001b[39m\"\u001b[39m) \u001b[39mas\u001b[39;00m writer:\n",
      "File \u001b[0;32m~/.pyenv/versions/anaconda3-2021.05/envs/genome/lib/python3.8/site-packages/pandas/core/generic.py:2357\u001b[0m, in \u001b[0;36mNDFrame.to_excel\u001b[0;34m(self, excel_writer, sheet_name, na_rep, float_format, columns, header, index, index_label, startrow, startcol, engine, merge_cells, encoding, inf_rep, verbose, freeze_panes, storage_options)\u001b[0m\n\u001b[1;32m   2344\u001b[0m \u001b[39mfrom\u001b[39;00m \u001b[39mpandas\u001b[39;00m\u001b[39m.\u001b[39;00m\u001b[39mio\u001b[39;00m\u001b[39m.\u001b[39;00m\u001b[39mformats\u001b[39;00m\u001b[39m.\u001b[39;00m\u001b[39mexcel\u001b[39;00m \u001b[39mimport\u001b[39;00m ExcelFormatter\n\u001b[1;32m   2346\u001b[0m formatter \u001b[39m=\u001b[39m ExcelFormatter(\n\u001b[1;32m   2347\u001b[0m     df,\n\u001b[1;32m   2348\u001b[0m     na_rep\u001b[39m=\u001b[39mna_rep,\n\u001b[0;32m   (...)\u001b[0m\n\u001b[1;32m   2355\u001b[0m     inf_rep\u001b[39m=\u001b[39minf_rep,\n\u001b[1;32m   2356\u001b[0m )\n\u001b[0;32m-> 2357\u001b[0m formatter\u001b[39m.\u001b[39;49mwrite(\n\u001b[1;32m   2358\u001b[0m     excel_writer,\n\u001b[1;32m   2359\u001b[0m     sheet_name\u001b[39m=\u001b[39;49msheet_name,\n\u001b[1;32m   2360\u001b[0m     startrow\u001b[39m=\u001b[39;49mstartrow,\n\u001b[1;32m   2361\u001b[0m     startcol\u001b[39m=\u001b[39;49mstartcol,\n\u001b[1;32m   2362\u001b[0m     freeze_panes\u001b[39m=\u001b[39;49mfreeze_panes,\n\u001b[1;32m   2363\u001b[0m     engine\u001b[39m=\u001b[39;49mengine,\n\u001b[1;32m   2364\u001b[0m     storage_options\u001b[39m=\u001b[39;49mstorage_options,\n\u001b[1;32m   2365\u001b[0m )\n",
      "File \u001b[0;32m~/.pyenv/versions/anaconda3-2021.05/envs/genome/lib/python3.8/site-packages/pandas/io/formats/excel.py:875\u001b[0m, in \u001b[0;36mExcelFormatter.write\u001b[0;34m(self, writer, sheet_name, startrow, startcol, freeze_panes, engine, storage_options)\u001b[0m\n\u001b[1;32m    873\u001b[0m num_rows, num_cols \u001b[39m=\u001b[39m \u001b[39mself\u001b[39m\u001b[39m.\u001b[39mdf\u001b[39m.\u001b[39mshape\n\u001b[1;32m    874\u001b[0m \u001b[39mif\u001b[39;00m num_rows \u001b[39m>\u001b[39m \u001b[39mself\u001b[39m\u001b[39m.\u001b[39mmax_rows \u001b[39mor\u001b[39;00m num_cols \u001b[39m>\u001b[39m \u001b[39mself\u001b[39m\u001b[39m.\u001b[39mmax_cols:\n\u001b[0;32m--> 875\u001b[0m     \u001b[39mraise\u001b[39;00m \u001b[39mValueError\u001b[39;00m(\n\u001b[1;32m    876\u001b[0m         \u001b[39mf\u001b[39m\u001b[39m\"\u001b[39m\u001b[39mThis sheet is too large! Your sheet size is: \u001b[39m\u001b[39m{\u001b[39;00mnum_rows\u001b[39m}\u001b[39;00m\u001b[39m, \u001b[39m\u001b[39m{\u001b[39;00mnum_cols\u001b[39m}\u001b[39;00m\u001b[39m \u001b[39m\u001b[39m\"\u001b[39m\n\u001b[1;32m    877\u001b[0m         \u001b[39mf\u001b[39m\u001b[39m\"\u001b[39m\u001b[39mMax sheet size is: \u001b[39m\u001b[39m{\u001b[39;00m\u001b[39mself\u001b[39m\u001b[39m.\u001b[39mmax_rows\u001b[39m}\u001b[39;00m\u001b[39m, \u001b[39m\u001b[39m{\u001b[39;00m\u001b[39mself\u001b[39m\u001b[39m.\u001b[39mmax_cols\u001b[39m}\u001b[39;00m\u001b[39m\"\u001b[39m\n\u001b[1;32m    878\u001b[0m     )\n\u001b[1;32m    880\u001b[0m formatted_cells \u001b[39m=\u001b[39m \u001b[39mself\u001b[39m\u001b[39m.\u001b[39mget_formatted_cells()\n\u001b[1;32m    881\u001b[0m \u001b[39mif\u001b[39;00m \u001b[39misinstance\u001b[39m(writer, ExcelWriter):\n",
      "\u001b[0;31mValueError\u001b[0m: This sheet is too large! Your sheet size is: 2414620, 36 Max sheet size is: 1048576, 16384"
     ]
    }
   ],
   "source": [
    "if False:\n",
    "    ### ALL.tsv--ALL*.xlsx\n",
    "    converter = Tsv2ExcelConverter(\n",
    "        input_dir=\"./omicron2201\",\n",
    "        output_dir=\"./omicron2201/output\",\n",
    "        data_dir=\"omicron2201\")\n",
    "    converter.convert()"
   ]
  },
  {
   "cell_type": "code",
   "execution_count": 7,
   "metadata": {},
   "outputs": [],
   "source": [
    "# converter = Tsv2ExcelConverter(\n",
    "#     input_dir=\"../delta/ANALYTICS_CLUSTER\",\n",
    "#     output_dir=\"ANALYTICS_CLUSTER_delta\",\n",
    "#     pivot_adder=DeltaPivotAdder())\n",
    "# converter.convert()"
   ]
  },
  {
   "cell_type": "code",
   "execution_count": null,
   "metadata": {},
   "outputs": [],
   "source": []
  },
  {
   "cell_type": "code",
   "execution_count": null,
   "metadata": {},
   "outputs": [],
   "source": []
  }
 ],
 "metadata": {
  "interpreter": {
   "hash": "243bb288b62ff76aa8530718991729a14f26b50949940324b60f4a65d359e423"
  },
  "kernelspec": {
   "display_name": "Python 3.8.8 ('genome')",
   "language": "python",
   "name": "python3"
  },
  "language_info": {
   "codemirror_mode": {
    "name": "ipython",
    "version": 3
   },
   "file_extension": ".py",
   "mimetype": "text/x-python",
   "name": "python",
   "nbconvert_exporter": "python",
   "pygments_lexer": "ipython3",
   "version": "3.8.8"
  },
  "orig_nbformat": 4
 },
 "nbformat": 4,
 "nbformat_minor": 2
}
