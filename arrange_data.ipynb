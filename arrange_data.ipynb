{
 "cells": [
  {
   "cell_type": "code",
   "execution_count": 1,
   "metadata": {},
   "outputs": [],
   "source": [
    "import pandas as pd\n",
    "from pathlib import Path\n",
    "import openpyxl\n",
    "import numpy as np\n",
    "import os\n",
    "from collections import defaultdict\n",
    "from pyexcel.pivotadder import Omicron2201PivotAdder, Omicron2211PivotAdder"
   ]
  },
  {
   "cell_type": "code",
   "execution_count": 2,
   "metadata": {},
   "outputs": [],
   "source": [
    "class Tsv2ExcelConverter(object):\n",
    "    def __init__(self, input_dir, output_dir, data_dir, pivot_adder=None):\n",
    "        self.input_dir = Path(input_dir)\n",
    "        self.output_dir = Path(output_dir)\n",
    "        self.pivot_adder = pivot_adder\n",
    "        self.data_dir = data_dir\n",
    "        if not self.output_dir.exists():\n",
    "            os.mkdir(self.output_dir)\n",
    "            \n",
    "    def convert(self):\n",
    "        for file in self.input_dir.glob(\"**/*.tsv\"):\n",
    "            print(file)\n",
    "            data = pd.read_csv(file, sep=\"\\t\", low_memory=False)\n",
    "            excel_path = f\"{self.output_dir}/{file.stem}_{self.data_dir}.xlsx\"\n",
    "            data.to_excel(excel_path)\n",
    "\n",
    "            if self.pivot_adder is not None:\n",
    "                with pd.ExcelWriter(excel_path, mode=\"a\") as writer:\n",
    "                    self.pivot_adder.add_pivot(writer=writer, data=data)\n"
   ]
  },
  {
   "cell_type": "code",
   "execution_count": 3,
   "metadata": {},
   "outputs": [
    {
     "name": "stdout",
     "output_type": "stream",
     "text": [
      "omicron2201/output/10/ANALYTICS_CLUSTER/Europe.tsv\n",
      "omicron2201/output/10/ANALYTICS_CLUSTER/North_America.tsv\n",
      "omicron2201/output/10/ANALYTICS_CLUSTER/Asia.tsv\n",
      "omicron2201/output/10/ANALYTICS_CLUSTER/Oceania.tsv\n",
      "omicron2201/output/50/ANALYTICS_CLUSTER/Europe.tsv\n",
      "omicron2201/output/50/ANALYTICS_CLUSTER/North_America.tsv\n",
      "omicron2201/output/50/ANALYTICS_CLUSTER/Asia.tsv\n",
      "omicron2201/output/50/ANALYTICS_CLUSTER/Oceania.tsv\n"
     ]
    }
   ],
   "source": [
    "if True:\n",
    "    for i in [10, 50]:\n",
    "    # for i in [10, 50, 100, 200]:\n",
    "        converter = Tsv2ExcelConverter(\n",
    "            input_dir=f\"./omicron2201/output/{i}/ANALYTICS_CLUSTER\",\n",
    "            output_dir=f\"./omicron2201/output/{i}/ANALYTICS_CLUSTER\",\n",
    "            pivot_adder=Omicron2201PivotAdder(),\n",
    "            data_dir=f\"omicron2201\")\n",
    "        converter.convert()"
   ]
  },
  {
   "cell_type": "code",
   "execution_count": 4,
   "metadata": {},
   "outputs": [
    {
     "name": "stdout",
     "output_type": "stream",
     "text": [
      "omicron2211/output/200/ANALYTICS_CLUSTER/Asia.tsv\n"
     ]
    },
    {
     "name": "stderr",
     "output_type": "stream",
     "text": [
      "/tmp/ipykernel_532713/3914196457.py:13: DtypeWarning: Columns (34) have mixed types. Specify dtype option on import or set low_memory=False.\n",
      "  data = pd.read_csv(file, sep=\"\\t\")\n"
     ]
    },
    {
     "name": "stdout",
     "output_type": "stream",
     "text": [
      "omicron2211/output/200/ANALYTICS_CLUSTER/North_America.tsv\n"
     ]
    },
    {
     "name": "stderr",
     "output_type": "stream",
     "text": [
      "/tmp/ipykernel_532713/3914196457.py:13: DtypeWarning: Columns (24,34) have mixed types. Specify dtype option on import or set low_memory=False.\n",
      "  data = pd.read_csv(file, sep=\"\\t\")\n"
     ]
    },
    {
     "name": "stdout",
     "output_type": "stream",
     "text": [
      "omicron2211/output/200/ANALYTICS_CLUSTER/Oceania.tsv\n",
      "omicron2211/output/200/ANALYTICS_CLUSTER/Africa.tsv\n",
      "omicron2211/output/200/ANALYTICS_CLUSTER/Europe.tsv\n"
     ]
    },
    {
     "name": "stderr",
     "output_type": "stream",
     "text": [
      "/tmp/ipykernel_532713/3914196457.py:13: DtypeWarning: Columns (10,34) have mixed types. Specify dtype option on import or set low_memory=False.\n",
      "  data = pd.read_csv(file, sep=\"\\t\")\n"
     ]
    },
    {
     "name": "stdout",
     "output_type": "stream",
     "text": [
      "omicron2211/output/300/ANALYTICS_CLUSTER/Asia.tsv\n"
     ]
    },
    {
     "name": "stderr",
     "output_type": "stream",
     "text": [
      "/tmp/ipykernel_532713/3914196457.py:13: DtypeWarning: Columns (34) have mixed types. Specify dtype option on import or set low_memory=False.\n",
      "  data = pd.read_csv(file, sep=\"\\t\")\n"
     ]
    },
    {
     "name": "stdout",
     "output_type": "stream",
     "text": [
      "omicron2211/output/300/ANALYTICS_CLUSTER/North_America.tsv\n"
     ]
    },
    {
     "name": "stderr",
     "output_type": "stream",
     "text": [
      "/tmp/ipykernel_532713/3914196457.py:13: DtypeWarning: Columns (24,34) have mixed types. Specify dtype option on import or set low_memory=False.\n",
      "  data = pd.read_csv(file, sep=\"\\t\")\n"
     ]
    },
    {
     "name": "stdout",
     "output_type": "stream",
     "text": [
      "omicron2211/output/300/ANALYTICS_CLUSTER/Oceania.tsv\n",
      "omicron2211/output/300/ANALYTICS_CLUSTER/Africa.tsv\n",
      "omicron2211/output/300/ANALYTICS_CLUSTER/Europe.tsv\n"
     ]
    },
    {
     "name": "stderr",
     "output_type": "stream",
     "text": [
      "/tmp/ipykernel_532713/3914196457.py:13: DtypeWarning: Columns (10,34) have mixed types. Specify dtype option on import or set low_memory=False.\n",
      "  data = pd.read_csv(file, sep=\"\\t\")\n"
     ]
    }
   ],
   "source": [
    "if False:\n",
    "    for i in [200, 300]:\n",
    "    # for i in [10, 50, 100, 200, 300]:\n",
    "        converter = Tsv2ExcelConverter(\n",
    "            input_dir=f\"./omicron2211/output/{i}/ANALYTICS_CLUSTER\",\n",
    "            output_dir=f\"./omicron2211/output/{i}/ANALYTICS_CLUSTER\",\n",
    "            pivot_adder=Omicron2211PivotAdder(),\n",
    "            data_dir=f\"omicron2211\")\n",
    "        converter.convert()"
   ]
  },
  {
   "cell_type": "code",
   "execution_count": 7,
   "metadata": {},
   "outputs": [],
   "source": [
    "# converter = Tsv2ExcelConverter(\n",
    "#     input_dir=\"../delta/ANALYTICS_CLUSTER\",\n",
    "#     output_dir=\"ANALYTICS_CLUSTER_delta\",\n",
    "#     pivot_adder=DeltaPivotAdder())\n",
    "# converter.convert()"
   ]
  },
  {
   "cell_type": "code",
   "execution_count": 1,
   "metadata": {},
   "outputs": [],
   "source": [
    "import pandas as pd\n",
    "output_dir = \"omicron2211\"\n",
    "\n",
    "all2211 = pd.read_csv(\"omicron2211/ALL.tsv\", sep=\"\\t\", low_memory=False)\n",
    "excel_path = f\"{output_dir}/output/ALL_{output_dir}.xlsx\"\n",
    "\n",
    "pivot1 = pd.pivot_table(\n",
    "            all2211, index=[\"continent\"],\n",
    "            values=\"Virus name\", aggfunc=len\n",
    "        )\n",
    "pivot2 = pd.pivot_table(\n",
    "            all2211, index=[\"lineage\"], columns=\"continent\",\n",
    "            values=\"Virus name\", aggfunc=len, margins=True\n",
    "        )\n",
    "pivot3 = pd.pivot_table(\n",
    "            all2211, index=\"lineage\", columns=[\"continent\", \"country\"],\n",
    "            values=\"Virus name\", aggfunc=len, margins=True\n",
    "        )\n",
    "pivot4 = pd.pivot_table(\n",
    "            all2211, index=[\"year\", \"month\"], columns=\"continent\",\n",
    "            values=\"Virus name\", aggfunc=len, margins=True#,dropna=False\n",
    "        )\n",
    "\n",
    "# pd.Series({\n",
    "#         \"Total Data Count\": len(all2211),\n",
    "#         \"2021/11~2022/5までのOmicron株のデータ\": \"\",\n",
    "#         \"シート一覧\": \"\",\n",
    "#         \"大陸\": \"大陸別のデータ件数表\",\n",
    "#         \"系統/大陸別\": \"系統×大陸別のデータ件数表\",\n",
    "#         \"系統/国別\": \"系統×国(大陸)別のデータ件数表\",\n",
    "#         \"大陸/月別\": \"系統×月(年)別のデータ件数表\"\n",
    "#         }).to_excel(excel_path)\n",
    "\n",
    "# with pd.ExcelWriter(excel_path, mode=\"a\") as writer:\n",
    "#     pivot1.to_excel(writer, sheet_name=\"大陸\")\n",
    "#     pivot2.to_excel(writer, sheet_name=\"系統_大陸別\")\n",
    "#     pivot3.to_excel(writer, sheet_name=\"系統_国別\")\n",
    "#     pivot4.to_excel(writer, sheet_name=\"大陸_月別\")"
   ]
  },
  {
   "cell_type": "code",
   "execution_count": 28,
   "metadata": {},
   "outputs": [],
   "source": [
    "import pandas as pd\n",
    "output_dir = \"omicron2201\"\n",
    "\n",
    "all2211 = pd.read_csv(f\"{output_dir}/ALL.tsv\", sep=\"\\t\", low_memory=False)\n",
    "excel_path = f\"{output_dir}/output/ALL_{output_dir}.xlsx\"\n",
    "\n",
    "pivot1 = pd.pivot_table(\n",
    "            all2211, index=[\"continent\"],\n",
    "            values=\"Virus name\", aggfunc=len,margins=True\n",
    "        )\n",
    "pivot2 = pd.pivot_table(\n",
    "            all2211, index=[\"lineage\"],\n",
    "            values=\"Virus name\", aggfunc=len,margins=True\n",
    "        )\n",
    "pivot3 = pd.pivot_table(\n",
    "            all2211, index=[\"new_lineage\"],\n",
    "            values=\"Virus name\", aggfunc=len,margins=True\n",
    "        )\n",
    "pivot4 = pd.pivot_table(\n",
    "            all2211, index=[\"lineage\", \"new_lineage\"], columns=\"continent\",\n",
    "            values=\"Virus name\", aggfunc=len,margins=True\n",
    "        )\n",
    "pivot5 = pd.pivot_table(\n",
    "            all2211, index=\"lineage\", columns=[\"continent\", \"country\"],\n",
    "            values=\"Virus name\", aggfunc=len, margins=True\n",
    "        )\n",
    "pivot6 = pd.pivot_table(\n",
    "            all2211, index=[\"year\", \"month\"], columns=\"continent\",\n",
    "            values=\"Virus name\", aggfunc=len, margins=True#,dropna=False\n",
    "        )\n",
    "\n",
    "pd.Series({\n",
    "        \"Total Data Count\": len(all2211),\n",
    "        \"2021/11~2022/1までのOmicron株のデータ\": \"\",\n",
    "        \"シート一覧\": \"\",\n",
    "        \"大陸別\": \"大陸別のデータ件数表\",\n",
    "        \"系統別\": \"系統別のデータ件数表\",\n",
    "        \"サブ系統別\": \"サブ系統別のデータ件数表\",\n",
    "        \"系統/国別\": \"系統×国(大陸)別のデータ件数表\",\n",
    "        \"大陸/月別\": \"系統×月(年)別のデータ件数表\"\n",
    "        }).to_excel(excel_path)\n",
    "\n",
    "with pd.ExcelWriter(excel_path, mode=\"a\") as writer:\n",
    "    pivot1.to_excel(writer, sheet_name=\"大陸別\")\n",
    "    pivot2.to_excel(writer, sheet_name=\"系統別\")\n",
    "    pivot3.to_excel(writer, sheet_name=\"サブ系統別\")\n",
    "    pivot4.to_excel(writer, sheet_name=\"系統_国別\")\n",
    "    pivot5.to_excel(writer, sheet_name=\"大陸_月別\")"
   ]
  },
  {
   "cell_type": "code",
   "execution_count": 10,
   "metadata": {},
   "outputs": [],
   "source": [
    "import pandas as pd\n",
    "from pathlib import Path\n",
    "output_dir = \"omicron2211\"\n",
    "out_excel_path = f\"{output_dir}/output/TotalThreshhold_{output_dir}.xlsx\""
   ]
  },
  {
   "cell_type": "code",
   "execution_count": 15,
   "metadata": {},
   "outputs": [
    {
     "name": "stdout",
     "output_type": "stream",
     "text": [
      "omicron2211/output/10/ANALYTICS_CLUSTER/Asia_omicron2211.xlsx\n",
      "omicron2211/output/10/ANALYTICS_CLUSTER/North_America_omicron2211.xlsx\n",
      "omicron2211/output/10/ANALYTICS_CLUSTER/Oceania_omicron2211.xlsx\n",
      "omicron2211/output/10/ANALYTICS_CLUSTER/Africa_omicron2211.xlsx\n",
      "omicron2211/output/10/ANALYTICS_CLUSTER/Europe_omicron2211.xlsx\n",
      "omicron2211/output/50/ANALYTICS_CLUSTER/Asia_omicron2211.xlsx\n",
      "omicron2211/output/50/ANALYTICS_CLUSTER/North_America_omicron2211.xlsx\n",
      "omicron2211/output/50/ANALYTICS_CLUSTER/Oceania_omicron2211.xlsx\n",
      "omicron2211/output/50/ANALYTICS_CLUSTER/Africa_omicron2211.xlsx\n",
      "omicron2211/output/50/ANALYTICS_CLUSTER/Europe_omicron2211.xlsx\n",
      "omicron2211/output/100/ANALYTICS_CLUSTER/Asia_omicron2211.xlsx\n",
      "omicron2211/output/100/ANALYTICS_CLUSTER/North_America_omicron2211.xlsx\n",
      "omicron2211/output/100/ANALYTICS_CLUSTER/Oceania_omicron2211.xlsx\n",
      "omicron2211/output/100/ANALYTICS_CLUSTER/Africa_omicron2211.xlsx\n",
      "omicron2211/output/100/ANALYTICS_CLUSTER/Europe_omicron2211.xlsx\n",
      "omicron2211/output/200/ANALYTICS_CLUSTER/Asia_omicron2211.xlsx\n",
      "omicron2211/output/200/ANALYTICS_CLUSTER/North_America_omicron2211.xlsx\n",
      "omicron2211/output/200/ANALYTICS_CLUSTER/Oceania_omicron2211.xlsx\n",
      "omicron2211/output/200/ANALYTICS_CLUSTER/Africa_omicron2211.xlsx\n",
      "omicron2211/output/200/ANALYTICS_CLUSTER/Europe_omicron2211.xlsx\n",
      "omicron2211/output/300/ANALYTICS_CLUSTER/Asia_omicron2211.xlsx\n",
      "omicron2211/output/300/ANALYTICS_CLUSTER/North_America_omicron2211.xlsx\n",
      "omicron2211/output/300/ANALYTICS_CLUSTER/Oceania_omicron2211.xlsx\n",
      "omicron2211/output/300/ANALYTICS_CLUSTER/Africa_omicron2211.xlsx\n",
      "omicron2211/output/300/ANALYTICS_CLUSTER/Europe_omicron2211.xlsx\n"
     ]
    }
   ],
   "source": [
    "pd.Series({\n",
    "        # \"Total Data Count\": len(all2211),\n",
    "        \"2021/11~2022/1までのOmicron株のデータ\": \"\",\n",
    "        \"シート一覧\": \"\",\n",
    "        \"大陸別\": \"大陸別のデータ件数表\",\n",
    "        \"系統別\": \"系統別のデータ件数表\",\n",
    "        \"サブ系統別\": \"サブ系統別のデータ件数表\",\n",
    "        \"系統/国別\": \"系統×国(大陸)別のデータ件数表\",\n",
    "        \"大陸/月別\": \"系統×月(年)別のデータ件数表\"\n",
    "        }).to_excel(out_excel_path)\n",
    "\n",
    "# for c in [10]:\n",
    "for c in [10, 50, 100, 200, 300]:\n",
    "    a = pd.DataFrame()\n",
    "    for excel_path in Path(f\"{output_dir}/output/{c}/ANALYTICS_CLUSTER\").glob(\"**/*.xlsx\"):\n",
    "        print(excel_path)\n",
    "        excel = pd.read_excel(excel_path, sheet_name='search_threshhold', index_col=0)\n",
    "        continent = excel_path.stem.split(\"_\")[0]\n",
    "        if continent == \"North\":\n",
    "            continent = \"North_America\"\n",
    "        excel[\"continent\"] = continent\n",
    "        a = pd.concat([a, excel])\n",
    "\n",
    "    with pd.ExcelWriter(out_excel_path, mode=\"a\") as writer:\n",
    "        a.to_excel(writer, sheet_name=f\"閾値{c}\")"
   ]
  },
  {
   "cell_type": "code",
   "execution_count": 24,
   "metadata": {},
   "outputs": [
    {
     "name": "stderr",
     "output_type": "stream",
     "text": [
      "/tmp/ipykernel_1549983/1110287392.py:1: DtypeWarning: Columns (10,24,34) have mixed types. Specify dtype option on import or set low_memory=False.\n",
      "  omicron2201 = pd.read_csv(\"omicron2201/ALL.tsv\", sep=\"\\t\")\n"
     ]
    },
    {
     "data": {
      "text/plain": [
       "x y    continent    \n",
       "0 0    Europe            60\n",
       "0 1    Europe           126\n",
       "0 10   Europe            20\n",
       "0 100  Europe             2\n",
       "       North_America      3\n",
       "                       ... \n",
       "99 93  Europe             1\n",
       "       North_America      1\n",
       "99 94  South_America      1\n",
       "99 96  Europe             1\n",
       "       North_America      1\n",
       "Length: 40404, dtype: int64"
      ]
     },
     "execution_count": 24,
     "metadata": {},
     "output_type": "execute_result"
    }
   ],
   "source": [
    "omicron2201 = pd.read_csv(\"omicron2201/ALL.tsv\", sep=\"\\t\")\n",
    "omicron2201.groupby([\"x y\", \"continent\"]).size()"
   ]
  },
  {
   "cell_type": "code",
   "execution_count": 23,
   "metadata": {},
   "outputs": [
    {
     "data": {
      "text/plain": [
       "x y\n",
       "0 0      1\n",
       "0 1      1\n",
       "0 10     1\n",
       "0 100    2\n",
       "0 101    2\n",
       "        ..\n",
       "99 91    1\n",
       "99 92    2\n",
       "99 93    2\n",
       "99 94    1\n",
       "99 96    2\n",
       "Name: continent, Length: 34368, dtype: int64"
      ]
     },
     "execution_count": 23,
     "metadata": {},
     "output_type": "execute_result"
    }
   ],
   "source": [
    "omicron2201.groupby([\"x y\"])[\"continent\"].nunique()"
   ]
  },
  {
   "cell_type": "code",
   "execution_count": 25,
   "metadata": {},
   "outputs": [
    {
     "data": {
      "text/plain": [
       "7.771428571428571"
      ]
     },
     "execution_count": 25,
     "metadata": {},
     "output_type": "execute_result"
    }
   ],
   "source": [
    "sum(omicron2201.groupby([\"x y\"])[\"continent\"].nunique() > 1) * 100 / 63000"
   ]
  },
  {
   "cell_type": "code",
   "execution_count": null,
   "metadata": {},
   "outputs": [],
   "source": []
  }
 ],
 "metadata": {
  "interpreter": {
   "hash": "243bb288b62ff76aa8530718991729a14f26b50949940324b60f4a65d359e423"
  },
  "kernelspec": {
   "display_name": "Python 3.8.8 ('genome')",
   "language": "python",
   "name": "python3"
  },
  "language_info": {
   "codemirror_mode": {
    "name": "ipython",
    "version": 3
   },
   "file_extension": ".py",
   "mimetype": "text/x-python",
   "name": "python",
   "nbconvert_exporter": "python",
   "pygments_lexer": "ipython3",
   "version": "3.8.8"
  },
  "orig_nbformat": 4
 },
 "nbformat": 4,
 "nbformat_minor": 2
}
